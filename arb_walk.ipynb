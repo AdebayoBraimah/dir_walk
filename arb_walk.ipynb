{
 "cells": [
  {
   "cell_type": "code",
   "execution_count": 1,
   "metadata": {},
   "outputs": [],
   "source": [
    "# Import packages & modules\n",
    "import os\n",
    "import glob"
   ]
  },
  {
   "cell_type": "code",
   "execution_count": 2,
   "metadata": {
    "scrolled": true
   },
   "outputs": [
    {
     "data": {
      "text/plain": [
       "'C:\\\\Users\\\\smart\\\\Desktop\\\\py_walk'"
      ]
     },
     "execution_count": 2,
     "metadata": {},
     "output_type": "execute_result"
    }
   ],
   "source": [
    "os.getcwd()"
   ]
  },
  {
   "cell_type": "code",
   "execution_count": 3,
   "metadata": {
    "scrolled": true
   },
   "outputs": [],
   "source": [
    "# # Recursively walk through each directory, and only print file paths of\n",
    "# # DICOM or PAR files that exist\n",
    "\n",
    "# for root,dirnames,filenames in os.walk(os.getcwd()):\n",
    "#     if len(filenames) > 0:\n",
    "#         for file in filenames:\n",
    "#             if '.dcm' in file.lower() or '.PAR' in file.upper() or '.nii' in file.lower():\n",
    "#                 file_name = os.path.join(root,file)\n",
    "#                 print(file_name)"
   ]
  },
  {
   "cell_type": "code",
   "execution_count": 4,
   "metadata": {},
   "outputs": [],
   "source": [
    "# os.path.exists('C:/Users/smart/Desktop/py_walk/test_dir/dir.dcm/P25_3223/CAE0034/0003/00005.dcm')"
   ]
  },
  {
   "cell_type": "code",
   "execution_count": 5,
   "metadata": {
    "scrolled": true
   },
   "outputs": [],
   "source": [
    "# for root,dirnames,filenames in os.walk(os.getcwd()):\n",
    "#     if len(filenames) > 0:\n",
    "#         for file in filenames:\n",
    "#             if '.dcm' in file.lower() or '.PAR' in file.upper() or '.nii' in file.lower():\n",
    "#                 file_name = os.path.join(root,file)\n",
    "#                 dir_name = os.path.dirname(file_name)\n",
    "#                 print(dir_name)"
   ]
  },
  {
   "cell_type": "code",
   "execution_count": 6,
   "metadata": {},
   "outputs": [],
   "source": [
    "# os.path.dirname('C:/Users/smart/Desktop/py_walk/test_dir/dir.dcm/P25_3223/CAE0034/0003/00005.dcm')"
   ]
  },
  {
   "cell_type": "code",
   "execution_count": 7,
   "metadata": {
    "scrolled": true
   },
   "outputs": [],
   "source": [
    "# dir_names = list()\n",
    "\n",
    "# for root,dirnames,filenames in os.walk(os.getcwd()):\n",
    "#     if len(filenames) > 0:\n",
    "#         for file in filenames:\n",
    "#             if '.dcm' in file.lower() or '.PAR' in file.upper() or '.nii' in file.lower():\n",
    "#                 file_name = os.path.join(root,file)\n",
    "#                 if '.dcm' in file.lower():\n",
    "#                     dir_name = os.path.dirname(os.path.dirname(file_name))\n",
    "#                 else:\n",
    "#                     dir_name = os.path.dirname(file_name)\n",
    "#                 # print(dir_name)\n",
    "#                 tmp_list = [dir_name]\n",
    "#                 dir_names.extend(tmp_list)\n",
    "\n",
    "# dir_names = list(set(dir_names))\n",
    "# dir_names.sort()\n",
    "# print(dir_names)"
   ]
  },
  {
   "cell_type": "code",
   "execution_count": 8,
   "metadata": {},
   "outputs": [],
   "source": [
    "# dir_names"
   ]
  },
  {
   "cell_type": "code",
   "execution_count": 9,
   "metadata": {},
   "outputs": [],
   "source": [
    "# glob.glob(os.path.join(dir_names[1],'*.PAR'))"
   ]
  },
  {
   "cell_type": "code",
   "execution_count": 10,
   "metadata": {},
   "outputs": [],
   "source": [
    "# file_types = list()\n",
    "\n",
    "# for dir_name in dir_names:\n",
    "#     tmp_dir_par = glob.glob(os.path.join(dir_name,\"*.PAR\"))\n",
    "#     tmp_dir_nii = glob.glob(os.path.join(dir_name,\"*.nii*\"))\n",
    "#     tmp_dir_dcm = glob.glob(os.path.join(dir_name,\"**\",\"**\",\"**\",\"*.dcm\"),recursive=True)\n",
    "    \n",
    "#     if len(tmp_dir_dcm) > 0:\n",
    "#         # print(\"DCM\")\n",
    "#         file_types.append(\"DCM\")\n",
    "#     elif len(tmp_dir_nii) > 0:\n",
    "#         # print(\"NII\")\n",
    "#         file_types.append(\"NII\")\n",
    "#     elif len(tmp_dir_par) > 0:\n",
    "#         # print(\"PAR\")\n",
    "#         file_types.append(\"PAR\")\n",
    "#     else:\n",
    "#         # print(\"Unknown\")\n",
    "#         file_types.append(\"Unknown\")\n",
    "        \n",
    "# print(file_types)"
   ]
  },
  {
   "cell_type": "code",
   "execution_count": 11,
   "metadata": {},
   "outputs": [],
   "source": [
    "def id_img_file(dir_names,verbose=False):\n",
    "    '''\n",
    "    Creates list of file-types that either contain the label: DCM (DICOM), NII (NifTi), PAR (PAR REC), or Unknown.\n",
    "    \n",
    "    Arguments:\n",
    "        dir_names (list): Input directory names list\n",
    "        verbose (boolean): Enable verbose output\n",
    "    Returns:\n",
    "        file_types (list): List of file-types that corresponds to input directory names list\n",
    "    '''\n",
    "    \n",
    "    # Init empty list\n",
    "    file_types = list()\n",
    "    \n",
    "    # Iterate through directory names list\n",
    "    for dir_name in dir_names:\n",
    "        tmp_dir_par = glob.glob(os.path.join(dir_name,\"*.PAR\"))\n",
    "        tmp_dir_nii = glob.glob(os.path.join(dir_name,\"*.nii*\"))\n",
    "        tmp_dir_dcm = glob.glob(os.path.join(dir_name,\"**\",\"**\",\"**\",\"*.dcm\"),recursive=True)\n",
    "\n",
    "        if len(tmp_dir_dcm) > 0:\n",
    "            if verbose:\n",
    "                print(\"DCM\")\n",
    "            file_types.append(\"DCM\")\n",
    "        elif len(tmp_dir_nii) > 0:\n",
    "            if verbose:\n",
    "                print(\"NII\")\n",
    "            file_types.append(\"NII\")\n",
    "        elif len(tmp_dir_par) > 0:\n",
    "            if verbose:\n",
    "                print(\"PAR\")\n",
    "            file_types.append(\"PAR\")\n",
    "        else:\n",
    "            if verbose:\n",
    "                print(\"Unknown\")\n",
    "            file_types.append(\"Unknown\")  \n",
    "    return file_types"
   ]
  },
  {
   "cell_type": "code",
   "execution_count": 14,
   "metadata": {},
   "outputs": [],
   "source": [
    "def img_dir_list(directory,verbose=False):\n",
    "    '''\n",
    "    Creates list of image file directories and file-types for some parent directy. The image file directories list\n",
    "    is a sorted list consisting of unique file paths for each image file parent directory. The corresponding file-\n",
    "    types list consists of labels that are: DCM (DICOM), NII (NifTi), PAR (PAR REC), or Unknown - depending on the\n",
    "    file-types in the image file parent directories.\n",
    "    \n",
    "    Arguments:\n",
    "        directory (file path): Parent directory that contains subject image data directories\n",
    "        verbose (boolean): Enable verbose output\n",
    "    Returns:\n",
    "        dir_names (list): List of directory names \n",
    "        file_types (list): List of file-types that corresponds to directory names list\n",
    "    '''\n",
    "    \n",
    "    # Init empty list\n",
    "    dir_names = list()\n",
    "\n",
    "    # Recursively iterate through all files in directory - find parent directory of image files\n",
    "    if verbose:\n",
    "        print(\"Creating list of directories...\")\n",
    "    for root,dirnames,filenames in os.walk(directory):\n",
    "        if len(filenames) > 0:\n",
    "            for file in filenames:\n",
    "                if '.dcm' in file.lower() or '.PAR' in file.upper() or '.nii' in file.lower():\n",
    "                    file_name = os.path.join(root,file)\n",
    "                    if '.dcm' in file.lower():\n",
    "                        dir_name = os.path.dirname(os.path.dirname(file_name))\n",
    "                    else:\n",
    "                        dir_name = os.path.dirname(file_name)\n",
    "                    # print(dir_name)\n",
    "                    tmp_list = [dir_name]\n",
    "                    dir_names.extend(tmp_list)\n",
    "                    \n",
    "    # Create sorted list of unique directory paths\n",
    "    if verbose:\n",
    "        print(\"Creating unique list of directories...\")\n",
    "    dir_names = list(set(dir_names))\n",
    "    dir_names.sort()\n",
    "    \n",
    "    # Create file-type list\n",
    "    if verbose:\n",
    "        print(\"Identifying file types...\")\n",
    "    file_types = id_img_file(dir_names=dir_names,verbose=verbose)\n",
    "    return dir_names,file_types"
   ]
  },
  {
   "cell_type": "code",
   "execution_count": 16,
   "metadata": {},
   "outputs": [],
   "source": [
    "[dir_names,file_types] = img_dir_list(os.getcwd(),False)"
   ]
  },
  {
   "cell_type": "code",
   "execution_count": 21,
   "metadata": {},
   "outputs": [],
   "source": [
    "def list_to_file(in_list, out_file):\n",
    "    '''\n",
    "    Writes some input list to some file.\n",
    "    \n",
    "    Arguments:\n",
    "        in_list (list): List of subjects.\n",
    "        out_file (file): Output filename.\n",
    "    Returns:\n",
    "        out_file (file): Output file.\n",
    "    '''\n",
    "\n",
    "    # Write list to file\n",
    "    with open(out_file, \"w\") as f:\n",
    "        for sub in in_list:\n",
    "            # f.write(\"%s\\n\" % sub)\n",
    "            f.write(f\"{sub}\\n\")\n",
    "        f.close()\n",
    "\n",
    "    return out_file"
   ]
  },
  {
   "cell_type": "code",
   "execution_count": 23,
   "metadata": {},
   "outputs": [
    {
     "data": {
      "text/plain": [
       "'type_list.txt'"
      ]
     },
     "execution_count": 23,
     "metadata": {},
     "output_type": "execute_result"
    }
   ],
   "source": [
    "list_to_file(dir_names,\"dir_list.txt\")\n",
    "list_to_file(file_types,\"type_list.txt\")"
   ]
  },
  {
   "cell_type": "code",
   "execution_count": 24,
   "metadata": {},
   "outputs": [],
   "source": [
    "def generate_img_list(directory,out_prefix,verbose=False):\n",
    "    '''\n",
    "    Generates list of image-containing directories and their corresponding image types from some parent directory. \n",
    "    The full path of the child directories that contain the images are written to file, in addition to their respective\n",
    "    file types. The written files will contain '.dir_list.txt' and '.type_list.txt' appended to them.\n",
    "    \n",
    "    Arguments:\n",
    "        directory (directory): Input parent directory of that contain medical images somewhere in its directory structure\n",
    "        out_prefix (str): Output file prefix for written files.\n",
    "        verbose (bool): Enable verbosity.\n",
    "    Returns:\n",
    "        dir_names (list): Child directories that contain medical images.\n",
    "        file_types (list): Corresponding file types to 'dir_names' list\n",
    "        out_file_dir (file): Output file that contains the contents of 'dir_names'\n",
    "        out_file_type (file): Output file that contains the contents of 'file_types'\n",
    "    '''\n",
    "    \n",
    "    # Generate directories list and child directories' file types\n",
    "    [dir_names,file_types] = img_dir_list(directory=directory,verbose=verbose)\n",
    "    \n",
    "    # Write output files\n",
    "    out_file_dir = list_to_file(in_list=dir_names,out_file=out_prefix + \".dir_list.txt\")\n",
    "    out_file_type = list_to_file(in_list=file_types,out_file=out_prefix + \".type_list.txt\")\n",
    "    \n",
    "    return dir_names,file_types,out_file_dir,out_file_type"
   ]
  },
  {
   "cell_type": "code",
   "execution_count": null,
   "metadata": {},
   "outputs": [],
   "source": []
  }
 ],
 "metadata": {
  "kernelspec": {
   "display_name": "Python 3",
   "language": "python",
   "name": "python3"
  },
  "language_info": {
   "codemirror_mode": {
    "name": "ipython",
    "version": 3
   },
   "file_extension": ".py",
   "mimetype": "text/x-python",
   "name": "python",
   "nbconvert_exporter": "python",
   "pygments_lexer": "ipython3",
   "version": "3.6.8"
  }
 },
 "nbformat": 4,
 "nbformat_minor": 2
}
